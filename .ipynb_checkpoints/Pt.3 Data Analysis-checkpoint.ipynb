{
 "cells": [
  {
   "cell_type": "markdown",
   "metadata": {},
   "source": [
    "# Graduate Admissions\n",
    "## Data Modeling and Interpretation"
   ]
  },
  {
   "cell_type": "code",
   "execution_count": 1,
   "metadata": {},
   "outputs": [],
   "source": [
    "import pandas as pd\n",
    "import numpy as np\n",
    "import seaborn as sns\n",
    "import matplotlib.pyplot as plt\n",
    "import sklearn"
   ]
  },
  {
   "cell_type": "markdown",
   "metadata": {},
   "source": [
    "---"
   ]
  },
  {
   "cell_type": "markdown",
   "metadata": {},
   "source": [
    "## Import Dataset"
   ]
  },
  {
   "cell_type": "code",
   "execution_count": 2,
   "metadata": {},
   "outputs": [
    {
     "data": {
      "text/html": [
       "<div>\n",
       "<style scoped>\n",
       "    .dataframe tbody tr th:only-of-type {\n",
       "        vertical-align: middle;\n",
       "    }\n",
       "\n",
       "    .dataframe tbody tr th {\n",
       "        vertical-align: top;\n",
       "    }\n",
       "\n",
       "    .dataframe thead th {\n",
       "        text-align: right;\n",
       "    }\n",
       "</style>\n",
       "<table border=\"1\" class=\"dataframe\">\n",
       "  <thead>\n",
       "    <tr style=\"text-align: right;\">\n",
       "      <th></th>\n",
       "      <th>Unnamed: 0</th>\n",
       "      <th>GRE Score</th>\n",
       "      <th>TOEFL Score</th>\n",
       "      <th>University Rating</th>\n",
       "      <th>SOP</th>\n",
       "      <th>LOR</th>\n",
       "      <th>CGPA</th>\n",
       "      <th>Research</th>\n",
       "      <th>Chance of Admit</th>\n",
       "    </tr>\n",
       "  </thead>\n",
       "  <tbody>\n",
       "    <tr>\n",
       "      <th>0</th>\n",
       "      <td>0</td>\n",
       "      <td>1.819238</td>\n",
       "      <td>1.778865</td>\n",
       "      <td>0.775582</td>\n",
       "      <td>1.137360</td>\n",
       "      <td>1.098944</td>\n",
       "      <td>1.776806</td>\n",
       "      <td>1</td>\n",
       "      <td>0.92</td>\n",
       "    </tr>\n",
       "    <tr>\n",
       "      <th>1</th>\n",
       "      <td>1</td>\n",
       "      <td>0.667148</td>\n",
       "      <td>-0.031601</td>\n",
       "      <td>0.775582</td>\n",
       "      <td>0.632315</td>\n",
       "      <td>1.098944</td>\n",
       "      <td>0.485859</td>\n",
       "      <td>1</td>\n",
       "      <td>0.76</td>\n",
       "    </tr>\n",
       "    <tr>\n",
       "      <th>2</th>\n",
       "      <td>2</td>\n",
       "      <td>-0.041830</td>\n",
       "      <td>-0.525364</td>\n",
       "      <td>-0.099793</td>\n",
       "      <td>-0.377773</td>\n",
       "      <td>0.017306</td>\n",
       "      <td>-0.954043</td>\n",
       "      <td>1</td>\n",
       "      <td>0.72</td>\n",
       "    </tr>\n",
       "    <tr>\n",
       "      <th>3</th>\n",
       "      <td>3</td>\n",
       "      <td>0.489904</td>\n",
       "      <td>0.462163</td>\n",
       "      <td>-0.099793</td>\n",
       "      <td>0.127271</td>\n",
       "      <td>-1.064332</td>\n",
       "      <td>0.154847</td>\n",
       "      <td>1</td>\n",
       "      <td>0.80</td>\n",
       "    </tr>\n",
       "    <tr>\n",
       "      <th>4</th>\n",
       "      <td>4</td>\n",
       "      <td>-0.219074</td>\n",
       "      <td>-0.689952</td>\n",
       "      <td>-0.975168</td>\n",
       "      <td>-1.387862</td>\n",
       "      <td>-0.523513</td>\n",
       "      <td>-0.606480</td>\n",
       "      <td>0</td>\n",
       "      <td>0.65</td>\n",
       "    </tr>\n",
       "  </tbody>\n",
       "</table>\n",
       "</div>"
      ],
      "text/plain": [
       "   Unnamed: 0  GRE Score  TOEFL Score  University Rating       SOP       LOR  \\\n",
       "0           0   1.819238     1.778865           0.775582  1.137360  1.098944   \n",
       "1           1   0.667148    -0.031601           0.775582  0.632315  1.098944   \n",
       "2           2  -0.041830    -0.525364          -0.099793 -0.377773  0.017306   \n",
       "3           3   0.489904     0.462163          -0.099793  0.127271 -1.064332   \n",
       "4           4  -0.219074    -0.689952          -0.975168 -1.387862 -0.523513   \n",
       "\n",
       "       CGPA  Research  Chance of Admit  \n",
       "0  1.776806         1             0.92  \n",
       "1  0.485859         1             0.76  \n",
       "2 -0.954043         1             0.72  \n",
       "3  0.154847         1             0.80  \n",
       "4 -0.606480         0             0.65  "
      ]
     },
     "execution_count": 2,
     "metadata": {},
     "output_type": "execute_result"
    }
   ],
   "source": [
    "grad = pd.read_csv('graduation.csv')\n",
    "grad.head()"
   ]
  },
  {
   "cell_type": "markdown",
   "metadata": {},
   "source": [
    "Need to drop the unnamed column."
   ]
  },
  {
   "cell_type": "code",
   "execution_count": 3,
   "metadata": {
    "scrolled": true
   },
   "outputs": [
    {
     "data": {
      "text/html": [
       "<div>\n",
       "<style scoped>\n",
       "    .dataframe tbody tr th:only-of-type {\n",
       "        vertical-align: middle;\n",
       "    }\n",
       "\n",
       "    .dataframe tbody tr th {\n",
       "        vertical-align: top;\n",
       "    }\n",
       "\n",
       "    .dataframe thead th {\n",
       "        text-align: right;\n",
       "    }\n",
       "</style>\n",
       "<table border=\"1\" class=\"dataframe\">\n",
       "  <thead>\n",
       "    <tr style=\"text-align: right;\">\n",
       "      <th></th>\n",
       "      <th>GRE Score</th>\n",
       "      <th>TOEFL Score</th>\n",
       "      <th>University Rating</th>\n",
       "      <th>SOP</th>\n",
       "      <th>LOR</th>\n",
       "      <th>CGPA</th>\n",
       "      <th>Research</th>\n",
       "      <th>Chance of Admit</th>\n",
       "    </tr>\n",
       "  </thead>\n",
       "  <tbody>\n",
       "    <tr>\n",
       "      <th>0</th>\n",
       "      <td>1.819238</td>\n",
       "      <td>1.778865</td>\n",
       "      <td>0.775582</td>\n",
       "      <td>1.137360</td>\n",
       "      <td>1.098944</td>\n",
       "      <td>1.776806</td>\n",
       "      <td>1</td>\n",
       "      <td>0.92</td>\n",
       "    </tr>\n",
       "    <tr>\n",
       "      <th>1</th>\n",
       "      <td>0.667148</td>\n",
       "      <td>-0.031601</td>\n",
       "      <td>0.775582</td>\n",
       "      <td>0.632315</td>\n",
       "      <td>1.098944</td>\n",
       "      <td>0.485859</td>\n",
       "      <td>1</td>\n",
       "      <td>0.76</td>\n",
       "    </tr>\n",
       "    <tr>\n",
       "      <th>2</th>\n",
       "      <td>-0.041830</td>\n",
       "      <td>-0.525364</td>\n",
       "      <td>-0.099793</td>\n",
       "      <td>-0.377773</td>\n",
       "      <td>0.017306</td>\n",
       "      <td>-0.954043</td>\n",
       "      <td>1</td>\n",
       "      <td>0.72</td>\n",
       "    </tr>\n",
       "    <tr>\n",
       "      <th>3</th>\n",
       "      <td>0.489904</td>\n",
       "      <td>0.462163</td>\n",
       "      <td>-0.099793</td>\n",
       "      <td>0.127271</td>\n",
       "      <td>-1.064332</td>\n",
       "      <td>0.154847</td>\n",
       "      <td>1</td>\n",
       "      <td>0.80</td>\n",
       "    </tr>\n",
       "    <tr>\n",
       "      <th>4</th>\n",
       "      <td>-0.219074</td>\n",
       "      <td>-0.689952</td>\n",
       "      <td>-0.975168</td>\n",
       "      <td>-1.387862</td>\n",
       "      <td>-0.523513</td>\n",
       "      <td>-0.606480</td>\n",
       "      <td>0</td>\n",
       "      <td>0.65</td>\n",
       "    </tr>\n",
       "  </tbody>\n",
       "</table>\n",
       "</div>"
      ],
      "text/plain": [
       "   GRE Score  TOEFL Score  University Rating       SOP       LOR      CGPA  \\\n",
       "0   1.819238     1.778865           0.775582  1.137360  1.098944  1.776806   \n",
       "1   0.667148    -0.031601           0.775582  0.632315  1.098944  0.485859   \n",
       "2  -0.041830    -0.525364          -0.099793 -0.377773  0.017306 -0.954043   \n",
       "3   0.489904     0.462163          -0.099793  0.127271 -1.064332  0.154847   \n",
       "4  -0.219074    -0.689952          -0.975168 -1.387862 -0.523513 -0.606480   \n",
       "\n",
       "   Research  Chance of Admit  \n",
       "0         1             0.92  \n",
       "1         1             0.76  \n",
       "2         1             0.72  \n",
       "3         1             0.80  \n",
       "4         0             0.65  "
      ]
     },
     "execution_count": 3,
     "metadata": {},
     "output_type": "execute_result"
    }
   ],
   "source": [
    "grad.drop(columns = ['Unnamed: 0'], inplace = True)\n",
    "grad.head()"
   ]
  },
  {
   "cell_type": "code",
   "execution_count": 4,
   "metadata": {},
   "outputs": [
    {
     "data": {
      "text/plain": [
       "(500, 8)"
      ]
     },
     "execution_count": 4,
     "metadata": {},
     "output_type": "execute_result"
    }
   ],
   "source": [
    "grad.shape"
   ]
  },
  {
   "cell_type": "markdown",
   "metadata": {},
   "source": [
    "---"
   ]
  },
  {
   "cell_type": "markdown",
   "metadata": {},
   "source": [
    "## Data Preparation"
   ]
  },
  {
   "cell_type": "markdown",
   "metadata": {},
   "source": [
    "Split the dataset into x and y to create training and test datasets."
   ]
  },
  {
   "cell_type": "code",
   "execution_count": 5,
   "metadata": {},
   "outputs": [
    {
     "data": {
      "text/plain": [
       "array([[ 1.81923762,  1.77886545,  0.77558214, ...,  1.09894429,\n",
       "         1.77680627,  1.        ],\n",
       "       [ 0.66714832, -0.03160087,  0.77558214, ...,  1.09894429,\n",
       "         0.48585943,  1.        ],\n",
       "       [-0.0418297 , -0.52536441, -0.09979274, ...,  0.01730621,\n",
       "        -0.95404281,  1.        ],\n",
       "       ...,\n",
       "       [ 1.19888185,  2.10804114,  1.65095702, ...,  1.63976333,\n",
       "         1.62785086,  1.        ],\n",
       "       [-0.39631872, -0.68995225,  0.77558214, ...,  1.63976333,\n",
       "        -0.24236699,  0.        ],\n",
       "       [ 0.93301508,  0.95592621,  0.77558214, ...,  1.09894429,\n",
       "         0.76721964,  0.        ]])"
      ]
     },
     "execution_count": 5,
     "metadata": {},
     "output_type": "execute_result"
    }
   ],
   "source": [
    "x = grad.iloc[:, :-1].values\n",
    "x"
   ]
  },
  {
   "cell_type": "code",
   "execution_count": 6,
   "metadata": {
    "scrolled": true
   },
   "outputs": [
    {
     "data": {
      "text/plain": [
       "array([0.92, 0.76, 0.72, 0.8 , 0.65, 0.9 , 0.75, 0.68, 0.5 , 0.45, 0.52,\n",
       "       0.84, 0.78, 0.62, 0.61, 0.54, 0.66, 0.65, 0.63, 0.62, 0.64, 0.7 ,\n",
       "       0.94, 0.95, 0.97, 0.94, 0.76, 0.44, 0.46, 0.54, 0.65, 0.74, 0.91,\n",
       "       0.9 , 0.94, 0.88, 0.64, 0.58, 0.52, 0.48, 0.46, 0.49, 0.53, 0.87,\n",
       "       0.91, 0.88, 0.86, 0.89, 0.82, 0.78, 0.76, 0.56, 0.78, 0.72, 0.7 ,\n",
       "       0.64, 0.64, 0.46, 0.36, 0.42, 0.48, 0.47, 0.54, 0.56, 0.52, 0.55,\n",
       "       0.61, 0.57, 0.68, 0.78, 0.94, 0.96, 0.93, 0.84, 0.74, 0.72, 0.74,\n",
       "       0.64, 0.44, 0.46, 0.5 , 0.96, 0.92, 0.92, 0.94, 0.76, 0.72, 0.66,\n",
       "       0.64, 0.74, 0.64, 0.38, 0.34, 0.44, 0.36, 0.42, 0.48, 0.86, 0.9 ,\n",
       "       0.79, 0.71, 0.64, 0.62, 0.57, 0.74, 0.69, 0.87, 0.91, 0.93, 0.68,\n",
       "       0.61, 0.69, 0.62, 0.72, 0.59, 0.66, 0.56, 0.45, 0.47, 0.71, 0.94,\n",
       "       0.94, 0.57, 0.61, 0.57, 0.64, 0.85, 0.78, 0.84, 0.92, 0.96, 0.77,\n",
       "       0.71, 0.79, 0.89, 0.82, 0.76, 0.71, 0.8 , 0.78, 0.84, 0.9 , 0.92,\n",
       "       0.97, 0.8 , 0.81, 0.75, 0.83, 0.96, 0.79, 0.93, 0.94, 0.86, 0.79,\n",
       "       0.8 , 0.77, 0.7 , 0.65, 0.61, 0.52, 0.57, 0.53, 0.67, 0.68, 0.81,\n",
       "       0.78, 0.65, 0.64, 0.64, 0.65, 0.68, 0.89, 0.86, 0.89, 0.87, 0.85,\n",
       "       0.9 , 0.82, 0.72, 0.73, 0.71, 0.71, 0.68, 0.75, 0.72, 0.89, 0.84,\n",
       "       0.93, 0.93, 0.88, 0.9 , 0.87, 0.86, 0.94, 0.77, 0.78, 0.73, 0.73,\n",
       "       0.7 , 0.72, 0.73, 0.72, 0.97, 0.97, 0.69, 0.57, 0.63, 0.66, 0.64,\n",
       "       0.68, 0.79, 0.82, 0.95, 0.96, 0.94, 0.93, 0.91, 0.85, 0.84, 0.74,\n",
       "       0.76, 0.75, 0.76, 0.71, 0.67, 0.61, 0.63, 0.64, 0.71, 0.82, 0.73,\n",
       "       0.74, 0.69, 0.64, 0.91, 0.88, 0.85, 0.86, 0.7 , 0.59, 0.6 , 0.65,\n",
       "       0.7 , 0.76, 0.63, 0.81, 0.72, 0.71, 0.8 , 0.77, 0.74, 0.7 , 0.71,\n",
       "       0.93, 0.85, 0.79, 0.76, 0.78, 0.77, 0.9 , 0.87, 0.71, 0.7 , 0.7 ,\n",
       "       0.75, 0.71, 0.72, 0.73, 0.83, 0.77, 0.72, 0.54, 0.49, 0.52, 0.58,\n",
       "       0.78, 0.89, 0.7 , 0.66, 0.67, 0.68, 0.8 , 0.81, 0.8 , 0.94, 0.93,\n",
       "       0.92, 0.89, 0.82, 0.79, 0.58, 0.56, 0.56, 0.64, 0.61, 0.68, 0.76,\n",
       "       0.86, 0.9 , 0.71, 0.62, 0.66, 0.65, 0.73, 0.62, 0.74, 0.79, 0.8 ,\n",
       "       0.69, 0.7 , 0.76, 0.84, 0.78, 0.67, 0.66, 0.65, 0.54, 0.58, 0.79,\n",
       "       0.8 , 0.75, 0.73, 0.72, 0.62, 0.67, 0.81, 0.63, 0.69, 0.8 , 0.43,\n",
       "       0.8 , 0.73, 0.75, 0.71, 0.73, 0.83, 0.72, 0.94, 0.81, 0.81, 0.75,\n",
       "       0.79, 0.58, 0.59, 0.47, 0.49, 0.47, 0.42, 0.57, 0.62, 0.74, 0.73,\n",
       "       0.64, 0.63, 0.59, 0.73, 0.79, 0.68, 0.7 , 0.81, 0.85, 0.93, 0.91,\n",
       "       0.69, 0.77, 0.86, 0.74, 0.57, 0.51, 0.67, 0.72, 0.89, 0.95, 0.79,\n",
       "       0.39, 0.38, 0.34, 0.47, 0.56, 0.71, 0.78, 0.73, 0.82, 0.62, 0.96,\n",
       "       0.96, 0.46, 0.53, 0.49, 0.76, 0.64, 0.71, 0.84, 0.77, 0.89, 0.82,\n",
       "       0.84, 0.91, 0.67, 0.95, 0.63, 0.66, 0.78, 0.91, 0.62, 0.52, 0.61,\n",
       "       0.58, 0.57, 0.61, 0.54, 0.56, 0.59, 0.49, 0.72, 0.76, 0.65, 0.52,\n",
       "       0.6 , 0.58, 0.42, 0.77, 0.73, 0.94, 0.91, 0.92, 0.71, 0.71, 0.69,\n",
       "       0.95, 0.74, 0.73, 0.86, 0.71, 0.64, 0.55, 0.58, 0.61, 0.67, 0.66,\n",
       "       0.53, 0.79, 0.92, 0.87, 0.92, 0.91, 0.93, 0.84, 0.8 , 0.79, 0.82,\n",
       "       0.89, 0.93, 0.73, 0.71, 0.59, 0.51, 0.37, 0.69, 0.89, 0.77, 0.68,\n",
       "       0.62, 0.57, 0.45, 0.54, 0.71, 0.78, 0.81, 0.86, 0.87, 0.64, 0.9 ,\n",
       "       0.67, 0.67, 0.59, 0.62, 0.65, 0.71, 0.79, 0.8 , 0.78, 0.83, 0.71,\n",
       "       0.73, 0.7 , 0.68, 0.79, 0.76, 0.65, 0.67, 0.54, 0.53, 0.62, 0.68,\n",
       "       0.87, 0.96, 0.93, 0.73, 0.84])"
      ]
     },
     "execution_count": 6,
     "metadata": {},
     "output_type": "execute_result"
    }
   ],
   "source": [
    "y = grad.iloc[:, -1].values\n",
    "y"
   ]
  },
  {
   "cell_type": "code",
   "execution_count": 7,
   "metadata": {},
   "outputs": [
    {
     "data": {
      "text/plain": [
       "(500, 7)"
      ]
     },
     "execution_count": 7,
     "metadata": {},
     "output_type": "execute_result"
    }
   ],
   "source": [
    "x.shape"
   ]
  },
  {
   "cell_type": "code",
   "execution_count": 8,
   "metadata": {},
   "outputs": [
    {
     "data": {
      "text/plain": [
       "(500,)"
      ]
     },
     "execution_count": 8,
     "metadata": {},
     "output_type": "execute_result"
    }
   ],
   "source": [
    "y.shape"
   ]
  },
  {
   "cell_type": "markdown",
   "metadata": {},
   "source": [
    "x contains all the rows and the seven feeatures, while y contains all the rows but just hte dependent variable."
   ]
  },
  {
   "cell_type": "markdown",
   "metadata": {},
   "source": [
    "---"
   ]
  },
  {
   "cell_type": "markdown",
   "metadata": {},
   "source": [
    "## Splitting the Dataset"
   ]
  },
  {
   "cell_type": "code",
   "execution_count": 30,
   "metadata": {},
   "outputs": [],
   "source": [
    "from sklearn.model_selection import train_test_split\n",
    "\n",
    "x_train, x_test, y_train, y_test = train_test_split(x, y, test_size = 0.2)"
   ]
  },
  {
   "cell_type": "code",
   "execution_count": 31,
   "metadata": {},
   "outputs": [
    {
     "data": {
      "text/plain": [
       "(400, 7)"
      ]
     },
     "execution_count": 31,
     "metadata": {},
     "output_type": "execute_result"
    }
   ],
   "source": [
    "x_train.shape"
   ]
  },
  {
   "cell_type": "code",
   "execution_count": 32,
   "metadata": {},
   "outputs": [
    {
     "data": {
      "text/plain": [
       "(100, 7)"
      ]
     },
     "execution_count": 32,
     "metadata": {},
     "output_type": "execute_result"
    }
   ],
   "source": [
    "x_test.shape"
   ]
  },
  {
   "cell_type": "code",
   "execution_count": 33,
   "metadata": {},
   "outputs": [
    {
     "data": {
      "text/plain": [
       "(400,)"
      ]
     },
     "execution_count": 33,
     "metadata": {},
     "output_type": "execute_result"
    }
   ],
   "source": [
    "y_train.shape"
   ]
  },
  {
   "cell_type": "code",
   "execution_count": 34,
   "metadata": {},
   "outputs": [
    {
     "data": {
      "text/plain": [
       "(100,)"
      ]
     },
     "execution_count": 34,
     "metadata": {},
     "output_type": "execute_result"
    }
   ],
   "source": [
    "y_test.shape"
   ]
  },
  {
   "cell_type": "markdown",
   "metadata": {},
   "source": [
    "The test set has a 100 rows (20%) and the training set has 400 rows (80%)."
   ]
  },
  {
   "cell_type": "markdown",
   "metadata": {},
   "source": [
    "---"
   ]
  },
  {
   "cell_type": "markdown",
   "metadata": {},
   "source": [
    "## Linear Regression Model"
   ]
  },
  {
   "cell_type": "code",
   "execution_count": 35,
   "metadata": {},
   "outputs": [
    {
     "data": {
      "text/plain": [
       "LinearRegression()"
      ]
     },
     "execution_count": 35,
     "metadata": {},
     "output_type": "execute_result"
    }
   ],
   "source": [
    "from sklearn.linear_model import LinearRegression\n",
    "\n",
    "linear = LinearRegression()\n",
    "linear.fit(x_train, y_train)"
   ]
  },
  {
   "cell_type": "code",
   "execution_count": 36,
   "metadata": {
    "scrolled": true
   },
   "outputs": [
    {
     "name": "stdout",
     "output_type": "stream",
     "text": [
      "Model performance for the training set:\n",
      "MSE is 0.0038864091205486674\n",
      "R-squared is 0.8100445074905057\n",
      "\n",
      "\n",
      "Model performance for the training set:\n",
      "MSE is 0.0021863242425280306\n",
      "R-squared is 0.8747186175405726\n",
      "\n",
      "\n"
     ]
    }
   ],
   "source": [
    "from sklearn.metrics import r2_score, mean_squared_error\n",
    "\n",
    "lin_y_train_pred = linear.predict(x_train)\n",
    "mse = mean_squared_error(y_train, lin_y_train_pred)\n",
    "r2 = r2_score(y_train, lin_y_train_pred)\n",
    "\n",
    "print('Model performance for the training set:')\n",
    "print('MSE is {}'.format(mse))\n",
    "print('R-squared is {}'.format(r2))\n",
    "print('\\n')\n",
    "\n",
    "lin_y_test_pred = linear.predict(x_test)\n",
    "mse = mean_squared_error(y_test, lin_y_test_pred)\n",
    "r2 = r2_score(y_test, lin_y_test_pred)\n",
    "\n",
    "print('Model performance for the training set:')\n",
    "print('MSE is {}'.format(mse))\n",
    "print('R-squared is {}'.format(r2))\n",
    "print('\\n')"
   ]
  },
  {
   "cell_type": "markdown",
   "metadata": {},
   "source": [
    "The mean-squared error is 0.87 for each of the sets. The MSE says how close the regression line is to the set of points, and the smaller the value, the greater the fit. Hence, with this value, we can state that the model performed pretty well.\n",
    "\n",
    "The r-squared value states the amount of variation in the response variable that can be explained by the model. The linear regression model can explain 87% of the variation in the response variable. This is a relatively high value."
   ]
  },
  {
   "cell_type": "markdown",
   "metadata": {},
   "source": [
    "### Actual v/s Predicted"
   ]
  },
  {
   "cell_type": "code",
   "execution_count": 37,
   "metadata": {
    "scrolled": true
   },
   "outputs": [
    {
     "data": {
      "text/plain": [
       "array([0.91107968, 0.91959921, 0.63576991, 0.57760016, 0.71963387,\n",
       "       0.73213259, 0.69945821, 0.66846151, 0.74735663, 0.80398385,\n",
       "       0.75854619, 0.60200921, 0.67150255, 0.84970844, 0.96610584,\n",
       "       0.61105614, 0.61463071, 0.61504891, 0.91312806, 0.64887243,\n",
       "       0.51755616, 0.53871423, 0.63263318, 0.71403576, 0.94379165,\n",
       "       0.98746329, 0.85925646, 0.69702149, 0.78747233, 0.81221997,\n",
       "       0.43275524, 0.58221078, 0.70051121, 0.65430859, 0.640415  ,\n",
       "       0.67930843, 0.65357568, 0.61718753, 0.63419218, 0.72129364,\n",
       "       0.73369748, 0.76559073, 0.65222378, 0.79195133, 0.59573611,\n",
       "       0.82171026, 0.77495548, 0.95111282, 0.53407571, 0.70933921,\n",
       "       0.83824359, 0.75842661, 0.78560867, 0.85835237, 0.70675183,\n",
       "       0.78321112, 0.99576797, 0.59811611, 0.61232037, 0.62363048,\n",
       "       0.60904265, 0.83662406, 0.90710586, 0.85040517, 0.61447481,\n",
       "       0.60898468, 0.78757602, 0.69626581, 0.82333802, 0.64240587,\n",
       "       0.64136222, 0.88640521, 0.81576417, 0.81910529, 0.84971516,\n",
       "       0.64424683, 0.93394176, 0.66220671, 0.72564624, 0.88638975,\n",
       "       0.58745931, 0.75471659, 0.56354079, 0.66157704, 0.50521403,\n",
       "       0.76333985, 0.73655198, 0.46942994, 0.96996991, 0.5208347 ,\n",
       "       0.80989412, 0.95508089, 0.6244923 , 0.95269155, 0.64754024,\n",
       "       0.66448812, 0.83264717, 0.80680182, 0.83401485, 0.62247935])"
      ]
     },
     "execution_count": 37,
     "metadata": {},
     "output_type": "execute_result"
    }
   ],
   "source": [
    "lin_y_test_pred"
   ]
  },
  {
   "cell_type": "code",
   "execution_count": 38,
   "metadata": {},
   "outputs": [
    {
     "data": {
      "text/html": [
       "<div>\n",
       "<style scoped>\n",
       "    .dataframe tbody tr th:only-of-type {\n",
       "        vertical-align: middle;\n",
       "    }\n",
       "\n",
       "    .dataframe tbody tr th {\n",
       "        vertical-align: top;\n",
       "    }\n",
       "\n",
       "    .dataframe thead th {\n",
       "        text-align: right;\n",
       "    }\n",
       "</style>\n",
       "<table border=\"1\" class=\"dataframe\">\n",
       "  <thead>\n",
       "    <tr style=\"text-align: right;\">\n",
       "      <th></th>\n",
       "      <th>Actual</th>\n",
       "      <th>Predicted</th>\n",
       "    </tr>\n",
       "  </thead>\n",
       "  <tbody>\n",
       "    <tr>\n",
       "      <th>0</th>\n",
       "      <td>0.93</td>\n",
       "      <td>0.911080</td>\n",
       "    </tr>\n",
       "    <tr>\n",
       "      <th>1</th>\n",
       "      <td>0.93</td>\n",
       "      <td>0.919599</td>\n",
       "    </tr>\n",
       "    <tr>\n",
       "      <th>2</th>\n",
       "      <td>0.68</td>\n",
       "      <td>0.635770</td>\n",
       "    </tr>\n",
       "    <tr>\n",
       "      <th>3</th>\n",
       "      <td>0.57</td>\n",
       "      <td>0.577600</td>\n",
       "    </tr>\n",
       "    <tr>\n",
       "      <th>4</th>\n",
       "      <td>0.67</td>\n",
       "      <td>0.719634</td>\n",
       "    </tr>\n",
       "    <tr>\n",
       "      <th>...</th>\n",
       "      <td>...</td>\n",
       "      <td>...</td>\n",
       "    </tr>\n",
       "    <tr>\n",
       "      <th>95</th>\n",
       "      <td>0.66</td>\n",
       "      <td>0.664488</td>\n",
       "    </tr>\n",
       "    <tr>\n",
       "      <th>96</th>\n",
       "      <td>0.87</td>\n",
       "      <td>0.832647</td>\n",
       "    </tr>\n",
       "    <tr>\n",
       "      <th>97</th>\n",
       "      <td>0.82</td>\n",
       "      <td>0.806802</td>\n",
       "    </tr>\n",
       "    <tr>\n",
       "      <th>98</th>\n",
       "      <td>0.88</td>\n",
       "      <td>0.834015</td>\n",
       "    </tr>\n",
       "    <tr>\n",
       "      <th>99</th>\n",
       "      <td>0.65</td>\n",
       "      <td>0.622479</td>\n",
       "    </tr>\n",
       "  </tbody>\n",
       "</table>\n",
       "<p>100 rows × 2 columns</p>\n",
       "</div>"
      ],
      "text/plain": [
       "    Actual  Predicted\n",
       "0     0.93   0.911080\n",
       "1     0.93   0.919599\n",
       "2     0.68   0.635770\n",
       "3     0.57   0.577600\n",
       "4     0.67   0.719634\n",
       "..     ...        ...\n",
       "95    0.66   0.664488\n",
       "96    0.87   0.832647\n",
       "97    0.82   0.806802\n",
       "98    0.88   0.834015\n",
       "99    0.65   0.622479\n",
       "\n",
       "[100 rows x 2 columns]"
      ]
     },
     "execution_count": 38,
     "metadata": {},
     "output_type": "execute_result"
    }
   ],
   "source": [
    "linear_result = pd.DataFrame({'Actual':  y_test.flatten(), 'Predicted': lin_y_test_pred.flatten()})\n",
    "linear_result"
   ]
  },
  {
   "cell_type": "code",
   "execution_count": 129,
   "metadata": {},
   "outputs": [
    {
     "name": "stderr",
     "output_type": "stream",
     "text": [
      "/Users/sneha_verma/opt/anaconda3/lib/python3.8/site-packages/seaborn/_decorators.py:36: FutureWarning: Pass the following variables as keyword args: x, y. From version 0.12, the only valid positional argument will be `data`, and passing other arguments without an explicit keyword will result in an error or misinterpretation.\n",
      "  warnings.warn(\n"
     ]
    },
    {
     "data": {
      "image/png": "[encoded data removed]",
      "text/plain": [
       "<Figure size 720x504 with 1 Axes>"
      ]
     },
     "metadata": {
      "needs_background": "light"
     },
     "output_type": "display_data"
    }
   ],
   "source": [
    "plt.figure(figsize = (10,7))\n",
    "plt.grid()\n",
    "\n",
    "sns.regplot(y_test, lin_y_test_pred, data = grad, color = 'green', scatter_kws = {'color':'black', 'alpha':0.5}).set_title('Linear Regression: Actual v/s Predicted', fontsize = 'x-large')\n",
    "plt.xlabel('True Values', fontsize = 'large')\n",
    "plt.ylabel('Predicted Values', fontsize = 'large')\n",
    "plt.xlim([min(y_test),max(y_test)])\n",
    "plt.ylim([min(lin_y_test_pred), max(lin_y_test_pred)])\n",
    "plt.plot([0, 1], [0, 1])\n",
    "plt.show()"
   ]
  },
  {
   "cell_type": "markdown",
   "metadata": {},
   "source": [
    "The table and graph show that while the linear regression is a good fit, there are areas of improvement. The points are more spread out when the true values are less than 70% and get concentrated beyond that point. However, the difference may not be largely signficant. \n",
    "\n",
    "Further, the regression line is very close to the 45 degree line which also indicates the strength of the model. However, let us continue to build other models."
   ]
  },
  {
   "cell_type": "markdown",
   "metadata": {},
   "source": [
    "---"
   ]
  },
  {
   "cell_type": "markdown",
   "metadata": {},
   "source": [
    "## Polynomial Regression (degree = 2)"
   ]
  },
  {
   "cell_type": "code",
   "execution_count": 42,
   "metadata": {},
   "outputs": [
    {
     "data": {
      "text/plain": [
       "LinearRegression()"
      ]
     },
     "execution_count": 42,
     "metadata": {},
     "output_type": "execute_result"
    }
   ],
   "source": [
    "from sklearn.linear_model import LinearRegression\n",
    "from sklearn.preprocessing import PolynomialFeatures\n",
    "from sklearn.metrics import mean_squared_error, r2_score\n",
    "\n",
    "poly_features = PolynomialFeatures(degree = 2)\n",
    "x_train_poly = poly_features.fit_transform(x_train)\n",
    "poly_model = LinearRegression()\n",
    "poly_model.fit(x_train_poly, y_train)"
   ]
  },
  {
   "cell_type": "code",
   "execution_count": 43,
   "metadata": {},
   "outputs": [
    {
     "name": "stdout",
     "output_type": "stream",
     "text": [
      "Model performance for the training set:\n",
      "R-squared is 0.8279821415832131\n",
      "\n",
      "\n",
      "Model performance for the test set:\n",
      "R-squared is 0.8631816034167166\n",
      "\n",
      "\n"
     ]
    }
   ],
   "source": [
    "poly_y_train_pred = poly_model.predict(x_train_poly)\n",
    "r2 = r2_score(y_train, poly_y_train_pred)\n",
    "\n",
    "print('Model performance for the training set:')\n",
    "print('R-squared is {}'.format(r2))\n",
    "print('\\n')\n",
    "\n",
    "poly_y_test_pred = poly_model.predict(poly_features.fit_transform(x_test))\n",
    "r2 = r2_score(y_test, poly_y_test_pred)\n",
    "\n",
    "print('Model performance for the test set:')\n",
    "print('R-squared is {}'.format(r2))\n",
    "print('\\n')"
   ]
  },
  {
   "cell_type": "markdown",
   "metadata": {},
   "source": [
    "The r-squared value of the polynomial regression is close to the r-squared obtained by the linear regression and so, applying a polynomial regression does not help improve the model by a lot. "
   ]
  },
  {
   "cell_type": "markdown",
   "metadata": {},
   "source": [
    "### Actual v/s Predicted"
   ]
  },
  {
   "cell_type": "code",
   "execution_count": 44,
   "metadata": {},
   "outputs": [
    {
     "data": {
      "text/plain": [
       "array([0.91324815, 0.93278358, 0.65307388, 0.5696491 , 0.72438143,\n",
       "       0.7325354 , 0.71663082, 0.67928631, 0.77665561, 0.79403944,\n",
       "       0.77503953, 0.54988029, 0.63755154, 0.82768274, 0.92357914,\n",
       "       0.59431891, 0.62790183, 0.62236   , 0.91935026, 0.6574789 ,\n",
       "       0.514648  , 0.55178253, 0.63661228, 0.72907074, 0.93666475,\n",
       "       0.97964443, 0.87759883, 0.69275577, 0.78335823, 0.81345889,\n",
       "       0.43969602, 0.59399959, 0.70806753, 0.6614925 , 0.64004213,\n",
       "       0.69038057, 0.64868898, 0.61929273, 0.64897419, 0.72615792,\n",
       "       0.72930446, 0.77842546, 0.65133629, 0.78386067, 0.56187459,\n",
       "       0.82089267, 0.7490658 , 0.94609927, 0.51638168, 0.71764151,\n",
       "       0.87345802, 0.75621951, 0.79689162, 0.85824348, 0.69638401,\n",
       "       0.77742489, 0.95588331, 0.60875455, 0.60739797, 0.62901128,\n",
       "       0.61042619, 0.83661373, 0.90262508, 0.8583223 , 0.59000221,\n",
       "       0.60009215, 0.7973471 , 0.68193656, 0.82782156, 0.63229606,\n",
       "       0.65621246, 0.87540155, 0.82686134, 0.81151823, 0.83823697,\n",
       "       0.64287913, 0.94269267, 0.67091802, 0.72419245, 0.90800732,\n",
       "       0.6030158 , 0.75091551, 0.5627648 , 0.67441947, 0.53940672,\n",
       "       0.77296244, 0.74499191, 0.49114785, 0.946321  , 0.52185121,\n",
       "       0.81897035, 0.93308857, 0.62634746, 0.93531607, 0.66848974,\n",
       "       0.65528825, 0.85513178, 0.79832603, 0.8626347 , 0.64100868])"
      ]
     },
     "execution_count": 44,
     "metadata": {},
     "output_type": "execute_result"
    }
   ],
   "source": [
    "poly_y_test_pred"
   ]
  },
  {
   "cell_type": "code",
   "execution_count": 45,
   "metadata": {},
   "outputs": [
    {
     "data": {
      "text/html": [
       "<div>\n",
       "<style scoped>\n",
       "    .dataframe tbody tr th:only-of-type {\n",
       "        vertical-align: middle;\n",
       "    }\n",
       "\n",
       "    .dataframe tbody tr th {\n",
       "        vertical-align: top;\n",
       "    }\n",
       "\n",
       "    .dataframe thead th {\n",
       "        text-align: right;\n",
       "    }\n",
       "</style>\n",
       "<table border=\"1\" class=\"dataframe\">\n",
       "  <thead>\n",
       "    <tr style=\"text-align: right;\">\n",
       "      <th></th>\n",
       "      <th>Actual</th>\n",
       "      <th>Predicted</th>\n",
       "    </tr>\n",
       "  </thead>\n",
       "  <tbody>\n",
       "    <tr>\n",
       "      <th>0</th>\n",
       "      <td>0.93</td>\n",
       "      <td>0.913248</td>\n",
       "    </tr>\n",
       "    <tr>\n",
       "      <th>1</th>\n",
       "      <td>0.93</td>\n",
       "      <td>0.932784</td>\n",
       "    </tr>\n",
       "    <tr>\n",
       "      <th>2</th>\n",
       "      <td>0.68</td>\n",
       "      <td>0.653074</td>\n",
       "    </tr>\n",
       "    <tr>\n",
       "      <th>3</th>\n",
       "      <td>0.57</td>\n",
       "      <td>0.569649</td>\n",
       "    </tr>\n",
       "    <tr>\n",
       "      <th>4</th>\n",
       "      <td>0.67</td>\n",
       "      <td>0.724381</td>\n",
       "    </tr>\n",
       "    <tr>\n",
       "      <th>...</th>\n",
       "      <td>...</td>\n",
       "      <td>...</td>\n",
       "    </tr>\n",
       "    <tr>\n",
       "      <th>95</th>\n",
       "      <td>0.66</td>\n",
       "      <td>0.655288</td>\n",
       "    </tr>\n",
       "    <tr>\n",
       "      <th>96</th>\n",
       "      <td>0.87</td>\n",
       "      <td>0.855132</td>\n",
       "    </tr>\n",
       "    <tr>\n",
       "      <th>97</th>\n",
       "      <td>0.82</td>\n",
       "      <td>0.798326</td>\n",
       "    </tr>\n",
       "    <tr>\n",
       "      <th>98</th>\n",
       "      <td>0.88</td>\n",
       "      <td>0.862635</td>\n",
       "    </tr>\n",
       "    <tr>\n",
       "      <th>99</th>\n",
       "      <td>0.65</td>\n",
       "      <td>0.641009</td>\n",
       "    </tr>\n",
       "  </tbody>\n",
       "</table>\n",
       "<p>100 rows × 2 columns</p>\n",
       "</div>"
      ],
      "text/plain": [
       "    Actual  Predicted\n",
       "0     0.93   0.913248\n",
       "1     0.93   0.932784\n",
       "2     0.68   0.653074\n",
       "3     0.57   0.569649\n",
       "4     0.67   0.724381\n",
       "..     ...        ...\n",
       "95    0.66   0.655288\n",
       "96    0.87   0.855132\n",
       "97    0.82   0.798326\n",
       "98    0.88   0.862635\n",
       "99    0.65   0.641009\n",
       "\n",
       "[100 rows x 2 columns]"
      ]
     },
     "execution_count": 45,
     "metadata": {},
     "output_type": "execute_result"
    }
   ],
   "source": [
    "poly_result = pd.DataFrame({'Actual':  y_test.flatten(), 'Predicted': poly_y_test_pred.flatten()})\n",
    "poly_result"
   ]
  },
  {
   "cell_type": "code",
   "execution_count": 130,
   "metadata": {},
   "outputs": [
    {
     "name": "stderr",
     "output_type": "stream",
     "text": [
      "/Users/sneha_verma/opt/anaconda3/lib/python3.8/site-packages/seaborn/_decorators.py:36: FutureWarning: Pass the following variables as keyword args: x, y. From version 0.12, the only valid positional argument will be `data`, and passing other arguments without an explicit keyword will result in an error or misinterpretation.\n",
      "  warnings.warn(\n"
     ]
    },
    {
     "data": {
      "image/png": "[encoded data removed]",
      "text/plain": [
       "<Figure size 720x504 with 1 Axes>"
      ]
     },
     "metadata": {
      "needs_background": "light"
     },
     "output_type": "display_data"
    }
   ],
   "source": [
    "plt.figure(figsize = (10,7))\n",
    "plt.grid()\n",
    "\n",
    "sns.regplot(y_test, poly_y_test_pred, data = grad, color = 'green', scatter_kws = {'color':'black', 'alpha':0.5}).set_title('Polynomial Regression: Actual v/s Predicted', fontsize = 'x-large')\n",
    "plt.xlabel('True Values', fontsize = 'large')\n",
    "plt.ylabel('Predicted Values', fontsize = 'large')\n",
    "plt.xlim([min(y_test),max(y_test)])\n",
    "plt.ylim([min(poly_y_test_pred), max(poly_y_test_pred)])\n",
    "plt.plot([0, 1], [0, 1])\n",
    "plt.show()"
   ]
  },
  {
   "cell_type": "markdown",
   "metadata": {},
   "source": [
    "There does not appear to be much diffeerence between the graphs, which is expected from the similarity between the r-squared values obtained. However, the points are a bit more heteroskedastic. \n",
    "\n",
    "The difference is not huge (a 1% decrease in the r-squared values). Further, while the regression line is close to the 45 degree line, there is more variation than in the linear regression plot."
   ]
  },
  {
   "cell_type": "markdown",
   "metadata": {},
   "source": [
    "*If you try higher polynomial degrees (degree = 3), then the r-squared value decreases creating a worse model. Hence, I have not shown that here.*"
   ]
  },
  {
   "cell_type": "markdown",
   "metadata": {},
   "source": [
    "---"
   ]
  },
  {
   "cell_type": "markdown",
   "metadata": {},
   "source": [
    "## Support Vector Regression"
   ]
  },
  {
   "cell_type": "code",
   "execution_count": 49,
   "metadata": {},
   "outputs": [
    {
     "data": {
      "text/plain": [
       "SVR()"
      ]
     },
     "execution_count": 49,
     "metadata": {},
     "output_type": "execute_result"
    }
   ],
   "source": [
    "from sklearn.svm import SVR\n",
    "from sklearn.metrics import r2_score, mean_squared_error\n",
    "\n",
    "svr_model = SVR(kernel = 'rbf')\n",
    "svr_model.fit(x_train, y_train)"
   ]
  },
  {
   "cell_type": "code",
   "execution_count": 55,
   "metadata": {
    "scrolled": true
   },
   "outputs": [
    {
     "name": "stdout",
     "output_type": "stream",
     "text": [
      "Model performance for the training set:\n",
      "R-squared is 0.7651478328457807\n",
      "MSE is 0.004804976114934704\n",
      "\n",
      "\n",
      "Model performance for the test set:\n",
      "R-squared is 0.7069839444080476\n",
      "MSE is 0.005113514021112395\n",
      "\n",
      "\n"
     ]
    }
   ],
   "source": [
    "svr_y_train_pred = svr_model.predict(x_train)\n",
    "r2 = r2_score(y_train, svr_y_train_pred)\n",
    "mse_train = mean_squared_error(y_train, svr_y_train_pred)\n",
    "\n",
    "print('Model performance for the training set:')\n",
    "print('R-squared is {}'.format(r2))\n",
    "print('MSE is {}'.format(mse_train))\n",
    "print('\\n')\n",
    "\n",
    "svr_y_test_pred = svr_model.predict(x_test)\n",
    "r2 = r2_score(y_test, svr_y_test_pred)\n",
    "mse_test = mean_squared_error(y_test, svr_y_test_pred)\n",
    "\n",
    "print('Model performance for the test set:')\n",
    "print('R-squared is {}'.format(r2))\n",
    "print('MSE is {}'.format(mse_test))\n",
    "print('\\n')"
   ]
  },
  {
   "cell_type": "markdown",
   "metadata": {},
   "source": [
    "The support vector regression yields a lower accuracy than the previous models with a r-squared value of 71%. Hence, this is a worse model to be used to explain the effect of hte independent variables on the chance of admission. THe MSE is very close to zero which is a good sign."
   ]
  },
  {
   "cell_type": "markdown",
   "metadata": {},
   "source": [
    "### Actual v/s Predicted"
   ]
  },
  {
   "cell_type": "code",
   "execution_count": 51,
   "metadata": {},
   "outputs": [
    {
     "data": {
      "text/plain": [
       "array([0.86492164, 0.87986114, 0.61821127, 0.62876073, 0.73005679,\n",
       "       0.66662168, 0.74626726, 0.67626035, 0.76174616, 0.74947752,\n",
       "       0.76079064, 0.59425801, 0.63801057, 0.79536826, 0.86468588,\n",
       "       0.5873889 , 0.56409658, 0.62392908, 0.85975107, 0.65367663,\n",
       "       0.52677163, 0.51292709, 0.59934613, 0.61124937, 0.88133887,\n",
       "       0.88455858, 0.82394161, 0.67227592, 0.69230191, 0.76663976,\n",
       "       0.46820473, 0.60384223, 0.61608171, 0.57439687, 0.64407153,\n",
       "       0.67420554, 0.60190804, 0.64133847, 0.64758666, 0.71913355,\n",
       "       0.68231392, 0.6664095 , 0.63157516, 0.71059862, 0.56854928,\n",
       "       0.78337498, 0.69656524, 0.8701072 , 0.50524394, 0.64011652,\n",
       "       0.8064221 , 0.66334699, 0.75386757, 0.82706634, 0.66084384,\n",
       "       0.71428616, 0.85702189, 0.65996782, 0.59330254, 0.62145181,\n",
       "       0.61760669, 0.79149323, 0.88974557, 0.82792422, 0.60775218,\n",
       "       0.65673842, 0.75309311, 0.69198246, 0.79105118, 0.64932472,\n",
       "       0.69918159, 0.82903205, 0.77998279, 0.77914385, 0.79075106,\n",
       "       0.5261967 , 0.89642455, 0.62564082, 0.64717224, 0.84801307,\n",
       "       0.55408521, 0.72756514, 0.55952015, 0.674244  , 0.50439738,\n",
       "       0.73208431, 0.65697491, 0.44831518, 0.87351957, 0.51426884,\n",
       "       0.77195908, 0.86905419, 0.57340155, 0.8980035 , 0.67007609,\n",
       "       0.62194186, 0.78475968, 0.7599324 , 0.80578185, 0.61734634])"
      ]
     },
     "execution_count": 51,
     "metadata": {},
     "output_type": "execute_result"
    }
   ],
   "source": [
    "svr_y_test_pred"
   ]
  },
  {
   "cell_type": "code",
   "execution_count": 52,
   "metadata": {},
   "outputs": [
    {
     "data": {
      "text/html": [
       "<div>\n",
       "<style scoped>\n",
       "    .dataframe tbody tr th:only-of-type {\n",
       "        vertical-align: middle;\n",
       "    }\n",
       "\n",
       "    .dataframe tbody tr th {\n",
       "        vertical-align: top;\n",
       "    }\n",
       "\n",
       "    .dataframe thead th {\n",
       "        text-align: right;\n",
       "    }\n",
       "</style>\n",
       "<table border=\"1\" class=\"dataframe\">\n",
       "  <thead>\n",
       "    <tr style=\"text-align: right;\">\n",
       "      <th></th>\n",
       "      <th>Actual</th>\n",
       "      <th>Predicted</th>\n",
       "    </tr>\n",
       "  </thead>\n",
       "  <tbody>\n",
       "    <tr>\n",
       "      <th>0</th>\n",
       "      <td>0.93</td>\n",
       "      <td>0.864922</td>\n",
       "    </tr>\n",
       "    <tr>\n",
       "      <th>1</th>\n",
       "      <td>0.93</td>\n",
       "      <td>0.879861</td>\n",
       "    </tr>\n",
       "    <tr>\n",
       "      <th>2</th>\n",
       "      <td>0.68</td>\n",
       "      <td>0.618211</td>\n",
       "    </tr>\n",
       "    <tr>\n",
       "      <th>3</th>\n",
       "      <td>0.57</td>\n",
       "      <td>0.628761</td>\n",
       "    </tr>\n",
       "    <tr>\n",
       "      <th>4</th>\n",
       "      <td>0.67</td>\n",
       "      <td>0.730057</td>\n",
       "    </tr>\n",
       "    <tr>\n",
       "      <th>...</th>\n",
       "      <td>...</td>\n",
       "      <td>...</td>\n",
       "    </tr>\n",
       "    <tr>\n",
       "      <th>95</th>\n",
       "      <td>0.66</td>\n",
       "      <td>0.621942</td>\n",
       "    </tr>\n",
       "    <tr>\n",
       "      <th>96</th>\n",
       "      <td>0.87</td>\n",
       "      <td>0.784760</td>\n",
       "    </tr>\n",
       "    <tr>\n",
       "      <th>97</th>\n",
       "      <td>0.82</td>\n",
       "      <td>0.759932</td>\n",
       "    </tr>\n",
       "    <tr>\n",
       "      <th>98</th>\n",
       "      <td>0.88</td>\n",
       "      <td>0.805782</td>\n",
       "    </tr>\n",
       "    <tr>\n",
       "      <th>99</th>\n",
       "      <td>0.65</td>\n",
       "      <td>0.617346</td>\n",
       "    </tr>\n",
       "  </tbody>\n",
       "</table>\n",
       "<p>100 rows × 2 columns</p>\n",
       "</div>"
      ],
      "text/plain": [
       "    Actual  Predicted\n",
       "0     0.93   0.864922\n",
       "1     0.93   0.879861\n",
       "2     0.68   0.618211\n",
       "3     0.57   0.628761\n",
       "4     0.67   0.730057\n",
       "..     ...        ...\n",
       "95    0.66   0.621942\n",
       "96    0.87   0.784760\n",
       "97    0.82   0.759932\n",
       "98    0.88   0.805782\n",
       "99    0.65   0.617346\n",
       "\n",
       "[100 rows x 2 columns]"
      ]
     },
     "execution_count": 52,
     "metadata": {},
     "output_type": "execute_result"
    }
   ],
   "source": [
    "svr_result = pd.DataFrame({'Actual': y_test.flatten(), 'Predicted': svr_y_test_pred.flatten()})\n",
    "svr_result"
   ]
  },
  {
   "cell_type": "code",
   "execution_count": 90,
   "metadata": {
    "scrolled": false
   },
   "outputs": [
    {
     "name": "stderr",
     "output_type": "stream",
     "text": [
      "/Users/sneha_verma/opt/anaconda3/lib/python3.8/site-packages/seaborn/_decorators.py:36: FutureWarning: Pass the following variables as keyword args: x, y. From version 0.12, the only valid positional argument will be `data`, and passing other arguments without an explicit keyword will result in an error or misinterpretation.\n",
      "  warnings.warn(\n"
     ]
    },
    {
     "data": {
      "image/png": "[encoded data removed]",
      "text/plain": [
       "<Figure size 720x504 with 1 Axes>"
      ]
     },
     "metadata": {
      "needs_background": "light"
     },
     "output_type": "display_data"
    }
   ],
   "source": [
    "plt.figure(figsize = (10,7))\n",
    "plt.grid()\n",
    "\n",
    "sns.regplot(y_test, svr_y_test_pred, data = grad, color = 'green', scatter_kws = {'color':'black', 'alpha':0.5}).set_title('Support Vector Regression: Actual v/s Predicted', fontsize = 'x-large')\n",
    "plt.xlabel('True Values', fontsize = 'large')\n",
    "plt.ylabel('Predicted Values', fontsize = 'large')\n",
    "plt.xlim([min(y_test),max(y_test)])\n",
    "plt.ylim([min(svr_y_test_pred), max(svr_y_test_pred)])\n",
    "plt.plot([0, 1], [0, 1])\n",
    "plt.show()"
   ]
  },
  {
   "cell_type": "markdown",
   "metadata": {},
   "source": [
    "The difference between the regression line and the 45 degrees line is much larger and the points are heteroskedastic with the points with values below 0.8 having higher variance causing them to be farther away from the regresison and 45 degrees lines; further confirming that this model is weaker than the past models that I have built and cannot predict the chance of admission as strongly."
   ]
  },
  {
   "cell_type": "markdown",
   "metadata": {},
   "source": [
    "---"
   ]
  },
  {
   "cell_type": "markdown",
   "metadata": {},
   "source": [
    "## Decision Tree Regression"
   ]
  },
  {
   "cell_type": "code",
   "execution_count": 79,
   "metadata": {},
   "outputs": [
    {
     "data": {
      "text/plain": [
       "DecisionTreeRegressor(max_depth=5)"
      ]
     },
     "execution_count": 79,
     "metadata": {},
     "output_type": "execute_result"
    }
   ],
   "source": [
    "from sklearn.tree import DecisionTreeRegressor\n",
    "\n",
    "decision_model = DecisionTreeRegressor(max_depth = 5)\n",
    "decision_model.fit(x_train, y_train)"
   ]
  },
  {
   "cell_type": "code",
   "execution_count": 80,
   "metadata": {},
   "outputs": [
    {
     "name": "stdout",
     "output_type": "stream",
     "text": [
      "Model performance for the training set:\n",
      "R-squared is 0.8606864575595494\n",
      "MSE is 0.0028502962183599378\n",
      "\n",
      "\n",
      "Model performance for the test set:\n",
      "R-squared is 0.7683045976184779\n",
      "MSE is 0.00404338829253468\n",
      "\n",
      "\n"
     ]
    }
   ],
   "source": [
    "decision_y_train_pred = decision_model.predict(x_train)\n",
    "r2 = r2_score(y_train, decision_y_train_pred)\n",
    "mse_train = mean_squared_error(y_train, decision_y_train_pred)\n",
    "\n",
    "print('Model performance for the training set:')\n",
    "print('R-squared is {}'.format(r2))\n",
    "print('MSE is {}'.format(mse_train))\n",
    "print('\\n')\n",
    "\n",
    "decision_y_test_pred = decision_model.predict(x_test)\n",
    "r2 = r2_score(y_test, decision_y_test_pred)\n",
    "mse_test = mean_squared_error(y_test, decision_y_test_pred)\n",
    "\n",
    "print('Model performance for the test set:')\n",
    "print('R-squared is {}'.format(r2))\n",
    "print('MSE is {}'.format(mse_test))\n",
    "print('\\n')"
   ]
  },
  {
   "cell_type": "markdown",
   "metadata": {},
   "source": [
    "When the max_depth parameter was not defined, the decision tree regressioin model was weak. It overfitted on the training set causing it to give poor results for the test set.\n",
    "\n",
    "However, with a max_depth set at 5, it can be seen that the r-squared value is higher than the SVR's r-squared value. This is interesting because there might still be a possibility of overfitting and ways to handle overfitting in decision trees should be explored."
   ]
  },
  {
   "cell_type": "markdown",
   "metadata": {},
   "source": [
    "### Actual v/s Predicted"
   ]
  },
  {
   "cell_type": "code",
   "execution_count": 81,
   "metadata": {},
   "outputs": [
    {
     "data": {
      "text/plain": [
       "array([0.93307692, 0.925     , 0.60857143, 0.56      , 0.77      ,\n",
       "       0.69225352, 0.69225352, 0.69225352, 0.77266667, 0.81217391,\n",
       "       0.77      , 0.61263158, 0.69225352, 0.81217391, 0.956     ,\n",
       "       0.45      , 0.58333333, 0.66833333, 0.925     , 0.60857143,\n",
       "       0.4547619 , 0.56      , 0.69225352, 0.69225352, 0.93307692,\n",
       "       0.956     , 0.89545455, 0.69225352, 0.77266667, 0.8425    ,\n",
       "       0.4547619 , 0.58333333, 0.69225352, 0.69225352, 0.69225352,\n",
       "       0.74272727, 0.66833333, 0.61263158, 0.69225352, 0.77      ,\n",
       "       0.69225352, 0.77      , 0.69225352, 0.77      , 0.58333333,\n",
       "       0.8425    , 0.69225352, 0.93307692, 0.52142857, 0.66833333,\n",
       "       0.90105263, 0.69225352, 0.81217391, 0.90105263, 0.69225352,\n",
       "       0.81217391, 0.956     , 0.45      , 0.58333333, 0.66833333,\n",
       "       0.61263158, 0.81217391, 0.925     , 0.8425    , 0.58333333,\n",
       "       0.58333333, 0.77266667, 0.66      , 0.8425    , 0.66833333,\n",
       "       0.69225352, 0.925     , 0.8425    , 0.68      , 0.8425    ,\n",
       "       0.58333333, 0.93307692, 0.69225352, 0.69225352, 0.90105263,\n",
       "       0.58333333, 0.74272727, 0.4547619 , 0.69225352, 0.52142857,\n",
       "       0.77266667, 0.77      , 0.4547619 , 0.93307692, 0.4547619 ,\n",
       "       0.81217391, 0.93307692, 0.69225352, 0.93307692, 0.62333333,\n",
       "       0.69225352, 0.89545455, 0.81217391, 0.89545455, 0.66833333])"
      ]
     },
     "execution_count": 81,
     "metadata": {},
     "output_type": "execute_result"
    }
   ],
   "source": [
    "decision_y_test_pred"
   ]
  },
  {
   "cell_type": "code",
   "execution_count": 82,
   "metadata": {},
   "outputs": [
    {
     "data": {
      "text/html": [
       "<div>\n",
       "<style scoped>\n",
       "    .dataframe tbody tr th:only-of-type {\n",
       "        vertical-align: middle;\n",
       "    }\n",
       "\n",
       "    .dataframe tbody tr th {\n",
       "        vertical-align: top;\n",
       "    }\n",
       "\n",
       "    .dataframe thead th {\n",
       "        text-align: right;\n",
       "    }\n",
       "</style>\n",
       "<table border=\"1\" class=\"dataframe\">\n",
       "  <thead>\n",
       "    <tr style=\"text-align: right;\">\n",
       "      <th></th>\n",
       "      <th>Actual</th>\n",
       "      <th>Predicted</th>\n",
       "    </tr>\n",
       "  </thead>\n",
       "  <tbody>\n",
       "    <tr>\n",
       "      <th>0</th>\n",
       "      <td>0.93</td>\n",
       "      <td>0.933077</td>\n",
       "    </tr>\n",
       "    <tr>\n",
       "      <th>1</th>\n",
       "      <td>0.93</td>\n",
       "      <td>0.925000</td>\n",
       "    </tr>\n",
       "    <tr>\n",
       "      <th>2</th>\n",
       "      <td>0.68</td>\n",
       "      <td>0.608571</td>\n",
       "    </tr>\n",
       "    <tr>\n",
       "      <th>3</th>\n",
       "      <td>0.57</td>\n",
       "      <td>0.560000</td>\n",
       "    </tr>\n",
       "    <tr>\n",
       "      <th>4</th>\n",
       "      <td>0.67</td>\n",
       "      <td>0.770000</td>\n",
       "    </tr>\n",
       "    <tr>\n",
       "      <th>...</th>\n",
       "      <td>...</td>\n",
       "      <td>...</td>\n",
       "    </tr>\n",
       "    <tr>\n",
       "      <th>95</th>\n",
       "      <td>0.66</td>\n",
       "      <td>0.692254</td>\n",
       "    </tr>\n",
       "    <tr>\n",
       "      <th>96</th>\n",
       "      <td>0.87</td>\n",
       "      <td>0.895455</td>\n",
       "    </tr>\n",
       "    <tr>\n",
       "      <th>97</th>\n",
       "      <td>0.82</td>\n",
       "      <td>0.812174</td>\n",
       "    </tr>\n",
       "    <tr>\n",
       "      <th>98</th>\n",
       "      <td>0.88</td>\n",
       "      <td>0.895455</td>\n",
       "    </tr>\n",
       "    <tr>\n",
       "      <th>99</th>\n",
       "      <td>0.65</td>\n",
       "      <td>0.668333</td>\n",
       "    </tr>\n",
       "  </tbody>\n",
       "</table>\n",
       "<p>100 rows × 2 columns</p>\n",
       "</div>"
      ],
      "text/plain": [
       "    Actual  Predicted\n",
       "0     0.93   0.933077\n",
       "1     0.93   0.925000\n",
       "2     0.68   0.608571\n",
       "3     0.57   0.560000\n",
       "4     0.67   0.770000\n",
       "..     ...        ...\n",
       "95    0.66   0.692254\n",
       "96    0.87   0.895455\n",
       "97    0.82   0.812174\n",
       "98    0.88   0.895455\n",
       "99    0.65   0.668333\n",
       "\n",
       "[100 rows x 2 columns]"
      ]
     },
     "execution_count": 82,
     "metadata": {},
     "output_type": "execute_result"
    }
   ],
   "source": [
    "decision_results = pd.DataFrame({'Actual': y_test.flatten(), 'Predicted': decision_y_test_pred.flatten()})\n",
    "decision_results"
   ]
  },
  {
   "cell_type": "code",
   "execution_count": 88,
   "metadata": {},
   "outputs": [
    {
     "name": "stderr",
     "output_type": "stream",
     "text": [
      "/Users/sneha_verma/opt/anaconda3/lib/python3.8/site-packages/seaborn/_decorators.py:36: FutureWarning: Pass the following variables as keyword args: x, y. From version 0.12, the only valid positional argument will be `data`, and passing other arguments without an explicit keyword will result in an error or misinterpretation.\n",
      "  warnings.warn(\n"
     ]
    },
    {
     "data": {
      "image/png": "[encoded data removed]",
      "text/plain": [
       "<Figure size 720x504 with 1 Axes>"
      ]
     },
     "metadata": {
      "needs_background": "light"
     },
     "output_type": "display_data"
    }
   ],
   "source": [
    "plt.figure(figsize = (10,7))\n",
    "plt.grid()\n",
    "\n",
    "sns.regplot(y_test, decision_y_test_pred, data = grad, color = 'green', scatter_kws = {'color':'black', 'alpha':0.5}).set_title('Decision Tree Regression: Actual v/s Predicted', fontsize = 'x-large')\n",
    "plt.xlabel('True Values', fontsize = 'large')\n",
    "plt.ylabel('Predicted Values', fontsize = 'large')\n",
    "plt.xlim([min(y_test),max(y_test)])\n",
    "plt.ylim([min(decision_y_test_pred), max(decision_y_test_pred)])\n",
    "plt.plot([0, 1], [0, 1])\n",
    "plt.show()"
   ]
  },
  {
   "cell_type": "markdown",
   "metadata": {},
   "source": [
    "While the regression line looks similar, the heteroskedasticity for true values of less than 0.8 has inceased in the points, causing there to be large residuals. Due to these large residual values, the decision tree regression line is not the best fit for this dataset. "
   ]
  },
  {
   "cell_type": "markdown",
   "metadata": {},
   "source": [
    "---"
   ]
  },
  {
   "cell_type": "markdown",
   "metadata": {},
   "source": [
    "## Random Forest Regression"
   ]
  },
  {
   "cell_type": "code",
   "execution_count": 111,
   "metadata": {},
   "outputs": [
    {
     "data": {
      "text/plain": [
       "RandomForestRegressor(max_depth=6, n_estimators=10)"
      ]
     },
     "execution_count": 111,
     "metadata": {},
     "output_type": "execute_result"
    }
   ],
   "source": [
    "from sklearn.ensemble import RandomForestRegressor\n",
    "\n",
    "random_model = RandomForestRegressor(n_estimators = 10,  max_depth = 6)\n",
    "random_model.fit(x_train, y_train)"
   ]
  },
  {
   "cell_type": "code",
   "execution_count": 112,
   "metadata": {},
   "outputs": [
    {
     "name": "stdout",
     "output_type": "stream",
     "text": [
      "Model performance for the training set:\n",
      "R-squared is 0.8963832719398285\n",
      "MSE is 0.002119954478043505\n",
      "\n",
      "\n",
      "Model performance for the test set:\n",
      "R-squared is 0.8398739647550152\n",
      "MSE is 0.0027944090801311555\n",
      "\n",
      "\n"
     ]
    }
   ],
   "source": [
    "random_y_train_pred = random_model.predict(x_train)\n",
    "r2 = r2_score(y_train, random_y_train_pred)\n",
    "mse_train = mean_squared_error(y_train, random_y_train_pred)\n",
    "\n",
    "print('Model performance for the training set:')\n",
    "print('R-squared is {}'.format(r2))\n",
    "print('MSE is {}'.format(mse_train))\n",
    "print('\\n')\n",
    "\n",
    "random_y_test_pred = random_model.predict(x_test)\n",
    "r2 = r2_score(y_test, random_y_test_pred)\n",
    "mse_test = mean_squared_error(y_test, random_y_test_pred)\n",
    "\n",
    "print('Model performance for the test set:')\n",
    "print('R-squared is {}'.format(r2))\n",
    "print('MSE is {}'.format(mse_test))\n",
    "print('\\n')"
   ]
  },
  {
   "cell_type": "markdown",
   "metadata": {},
   "source": [
    "The random forest regression yields a decent r-squared value of 84% with a small mse value. While this is not the best predictive model, it has a good r-squared value. Further experimentation can be done to deal with any overfitting or biases."
   ]
  },
  {
   "cell_type": "markdown",
   "metadata": {},
   "source": [
    "### Actual v/s Predicted"
   ]
  },
  {
   "cell_type": "code",
   "execution_count": 113,
   "metadata": {},
   "outputs": [
    {
     "data": {
      "text/plain": [
       "array([0.92011592, 0.93259613, 0.61482445, 0.52430026, 0.75815277,\n",
       "       0.72159518, 0.69063695, 0.68553048, 0.77980958, 0.79901583,\n",
       "       0.78449752, 0.61697455, 0.68784447, 0.77953444, 0.95748254,\n",
       "       0.56301654, 0.58978207, 0.60966777, 0.92878844, 0.64639619,\n",
       "       0.4809867 , 0.56485772, 0.66277227, 0.62409791, 0.9279    ,\n",
       "       0.96177143, 0.88611433, 0.69132032, 0.77306343, 0.83152407,\n",
       "       0.44351786, 0.60635318, 0.68881445, 0.68646111, 0.68068659,\n",
       "       0.6966751 , 0.6875703 , 0.63257575, 0.68646111, 0.74107392,\n",
       "       0.71053211, 0.77691802, 0.68566061, 0.74450641, 0.58890918,\n",
       "       0.82754788, 0.70914585, 0.9306735 , 0.50172164, 0.69536154,\n",
       "       0.89605073, 0.72262612, 0.79554777, 0.88912877, 0.70956105,\n",
       "       0.79747497, 0.95988254, 0.57418157, 0.63905161, 0.642788  ,\n",
       "       0.62931553, 0.81171171, 0.92007867, 0.85842651, 0.61359005,\n",
       "       0.55864333, 0.77652755, 0.63137225, 0.82755153, 0.63153321,\n",
       "       0.63214941, 0.90700228, 0.82384718, 0.75117847, 0.82530827,\n",
       "       0.64057518, 0.93795331, 0.69256445, 0.6881884 , 0.9040293 ,\n",
       "       0.60286979, 0.76916129, 0.55122804, 0.67753056, 0.54067733,\n",
       "       0.73475362, 0.76526856, 0.47830147, 0.93695331, 0.44477398,\n",
       "       0.80461749, 0.93038188, 0.68385397, 0.93795331, 0.62699002,\n",
       "       0.67585397, 0.87000364, 0.79097764, 0.86629929, 0.62592436])"
      ]
     },
     "execution_count": 113,
     "metadata": {},
     "output_type": "execute_result"
    }
   ],
   "source": [
    "random_y_test_pred"
   ]
  },
  {
   "cell_type": "code",
   "execution_count": 114,
   "metadata": {},
   "outputs": [
    {
     "data": {
      "text/html": [
       "<div>\n",
       "<style scoped>\n",
       "    .dataframe tbody tr th:only-of-type {\n",
       "        vertical-align: middle;\n",
       "    }\n",
       "\n",
       "    .dataframe tbody tr th {\n",
       "        vertical-align: top;\n",
       "    }\n",
       "\n",
       "    .dataframe thead th {\n",
       "        text-align: right;\n",
       "    }\n",
       "</style>\n",
       "<table border=\"1\" class=\"dataframe\">\n",
       "  <thead>\n",
       "    <tr style=\"text-align: right;\">\n",
       "      <th></th>\n",
       "      <th>Actual</th>\n",
       "      <th>Predicted</th>\n",
       "    </tr>\n",
       "  </thead>\n",
       "  <tbody>\n",
       "    <tr>\n",
       "      <th>0</th>\n",
       "      <td>0.93</td>\n",
       "      <td>0.920116</td>\n",
       "    </tr>\n",
       "    <tr>\n",
       "      <th>1</th>\n",
       "      <td>0.93</td>\n",
       "      <td>0.932596</td>\n",
       "    </tr>\n",
       "    <tr>\n",
       "      <th>2</th>\n",
       "      <td>0.68</td>\n",
       "      <td>0.614824</td>\n",
       "    </tr>\n",
       "    <tr>\n",
       "      <th>3</th>\n",
       "      <td>0.57</td>\n",
       "      <td>0.524300</td>\n",
       "    </tr>\n",
       "    <tr>\n",
       "      <th>4</th>\n",
       "      <td>0.67</td>\n",
       "      <td>0.758153</td>\n",
       "    </tr>\n",
       "    <tr>\n",
       "      <th>...</th>\n",
       "      <td>...</td>\n",
       "      <td>...</td>\n",
       "    </tr>\n",
       "    <tr>\n",
       "      <th>95</th>\n",
       "      <td>0.66</td>\n",
       "      <td>0.675854</td>\n",
       "    </tr>\n",
       "    <tr>\n",
       "      <th>96</th>\n",
       "      <td>0.87</td>\n",
       "      <td>0.870004</td>\n",
       "    </tr>\n",
       "    <tr>\n",
       "      <th>97</th>\n",
       "      <td>0.82</td>\n",
       "      <td>0.790978</td>\n",
       "    </tr>\n",
       "    <tr>\n",
       "      <th>98</th>\n",
       "      <td>0.88</td>\n",
       "      <td>0.866299</td>\n",
       "    </tr>\n",
       "    <tr>\n",
       "      <th>99</th>\n",
       "      <td>0.65</td>\n",
       "      <td>0.625924</td>\n",
       "    </tr>\n",
       "  </tbody>\n",
       "</table>\n",
       "<p>100 rows × 2 columns</p>\n",
       "</div>"
      ],
      "text/plain": [
       "    Actual  Predicted\n",
       "0     0.93   0.920116\n",
       "1     0.93   0.932596\n",
       "2     0.68   0.614824\n",
       "3     0.57   0.524300\n",
       "4     0.67   0.758153\n",
       "..     ...        ...\n",
       "95    0.66   0.675854\n",
       "96    0.87   0.870004\n",
       "97    0.82   0.790978\n",
       "98    0.88   0.866299\n",
       "99    0.65   0.625924\n",
       "\n",
       "[100 rows x 2 columns]"
      ]
     },
     "execution_count": 114,
     "metadata": {},
     "output_type": "execute_result"
    }
   ],
   "source": [
    "random_results = pd.DataFrame({'Actual': y_test.flatten(), 'Predicted': random_y_test_pred.flatten()})\n",
    "random_results"
   ]
  },
  {
   "cell_type": "code",
   "execution_count": 115,
   "metadata": {},
   "outputs": [
    {
     "name": "stderr",
     "output_type": "stream",
     "text": [
      "/Users/sneha_verma/opt/anaconda3/lib/python3.8/site-packages/seaborn/_decorators.py:36: FutureWarning: Pass the following variables as keyword args: x, y. From version 0.12, the only valid positional argument will be `data`, and passing other arguments without an explicit keyword will result in an error or misinterpretation.\n",
      "  warnings.warn(\n"
     ]
    },
    {
     "data": {
      "image/png": "[encoded data removed]",
      "text/plain": [
       "<Figure size 720x504 with 1 Axes>"
      ]
     },
     "metadata": {
      "needs_background": "light"
     },
     "output_type": "display_data"
    }
   ],
   "source": [
    "plt.figure(figsize = (10,7))\n",
    "plt.grid()\n",
    "\n",
    "sns.regplot(y_test, random_y_test_pred, data = grad, color = 'green', scatter_kws = {'color':'black', 'alpha':0.5}).set_title('Random Forest Regression: Actual v/s Predicted', fontsize = 'x-large')\n",
    "plt.xlabel('True Values', fontsize = 'large')\n",
    "plt.ylabel('Predicted Values', fontsize = 'large')\n",
    "plt.xlim([min(y_test),max(y_test)])\n",
    "plt.ylim([min(random_y_test_pred), max(random_y_test_pred)])\n",
    "plt.plot([0, 1], [0, 1])\n",
    "plt.show()"
   ]
  },
  {
   "cell_type": "markdown",
   "metadata": {},
   "source": [
    "The heteroskedasticity in the points have visibly decreased and the regression line is close to the 45 degree line."
   ]
  },
  {
   "cell_type": "markdown",
   "metadata": {},
   "source": [
    "---"
   ]
  },
  {
   "cell_type": "markdown",
   "metadata": {},
   "source": [
    "## Best Model:\n",
    "## Linear Regression"
   ]
  },
  {
   "cell_type": "markdown",
   "metadata": {},
   "source": [
    "Let us have a look at the regression line produced by this model to understand the effects of each of the independent variables on the dependent variable:"
   ]
  },
  {
   "cell_type": "code",
   "execution_count": 119,
   "metadata": {},
   "outputs": [
    {
     "data": {
      "text/html": [
       "<div>\n",
       "<style scoped>\n",
       "    .dataframe tbody tr th:only-of-type {\n",
       "        vertical-align: middle;\n",
       "    }\n",
       "\n",
       "    .dataframe tbody tr th {\n",
       "        vertical-align: top;\n",
       "    }\n",
       "\n",
       "    .dataframe thead th {\n",
       "        text-align: right;\n",
       "    }\n",
       "</style>\n",
       "<table border=\"1\" class=\"dataframe\">\n",
       "  <thead>\n",
       "    <tr style=\"text-align: right;\">\n",
       "      <th></th>\n",
       "      <th>GRE Score</th>\n",
       "      <th>TOEFL Score</th>\n",
       "      <th>University Rating</th>\n",
       "      <th>SOP</th>\n",
       "      <th>LOR</th>\n",
       "      <th>CGPA</th>\n",
       "      <th>Research</th>\n",
       "      <th>Chance of Admit</th>\n",
       "    </tr>\n",
       "  </thead>\n",
       "  <tbody>\n",
       "    <tr>\n",
       "      <th>0</th>\n",
       "      <td>1.819238</td>\n",
       "      <td>1.778865</td>\n",
       "      <td>0.775582</td>\n",
       "      <td>1.137360</td>\n",
       "      <td>1.098944</td>\n",
       "      <td>1.776806</td>\n",
       "      <td>1</td>\n",
       "      <td>0.92</td>\n",
       "    </tr>\n",
       "    <tr>\n",
       "      <th>1</th>\n",
       "      <td>0.667148</td>\n",
       "      <td>-0.031601</td>\n",
       "      <td>0.775582</td>\n",
       "      <td>0.632315</td>\n",
       "      <td>1.098944</td>\n",
       "      <td>0.485859</td>\n",
       "      <td>1</td>\n",
       "      <td>0.76</td>\n",
       "    </tr>\n",
       "    <tr>\n",
       "      <th>2</th>\n",
       "      <td>-0.041830</td>\n",
       "      <td>-0.525364</td>\n",
       "      <td>-0.099793</td>\n",
       "      <td>-0.377773</td>\n",
       "      <td>0.017306</td>\n",
       "      <td>-0.954043</td>\n",
       "      <td>1</td>\n",
       "      <td>0.72</td>\n",
       "    </tr>\n",
       "    <tr>\n",
       "      <th>3</th>\n",
       "      <td>0.489904</td>\n",
       "      <td>0.462163</td>\n",
       "      <td>-0.099793</td>\n",
       "      <td>0.127271</td>\n",
       "      <td>-1.064332</td>\n",
       "      <td>0.154847</td>\n",
       "      <td>1</td>\n",
       "      <td>0.80</td>\n",
       "    </tr>\n",
       "    <tr>\n",
       "      <th>4</th>\n",
       "      <td>-0.219074</td>\n",
       "      <td>-0.689952</td>\n",
       "      <td>-0.975168</td>\n",
       "      <td>-1.387862</td>\n",
       "      <td>-0.523513</td>\n",
       "      <td>-0.606480</td>\n",
       "      <td>0</td>\n",
       "      <td>0.65</td>\n",
       "    </tr>\n",
       "  </tbody>\n",
       "</table>\n",
       "</div>"
      ],
      "text/plain": [
       "   GRE Score  TOEFL Score  University Rating       SOP       LOR      CGPA  \\\n",
       "0   1.819238     1.778865           0.775582  1.137360  1.098944  1.776806   \n",
       "1   0.667148    -0.031601           0.775582  0.632315  1.098944  0.485859   \n",
       "2  -0.041830    -0.525364          -0.099793 -0.377773  0.017306 -0.954043   \n",
       "3   0.489904     0.462163          -0.099793  0.127271 -1.064332  0.154847   \n",
       "4  -0.219074    -0.689952          -0.975168 -1.387862 -0.523513 -0.606480   \n",
       "\n",
       "   Research  Chance of Admit  \n",
       "0         1             0.92  \n",
       "1         1             0.76  \n",
       "2         1             0.72  \n",
       "3         1             0.80  \n",
       "4         0             0.65  "
      ]
     },
     "execution_count": 119,
     "metadata": {},
     "output_type": "execute_result"
    }
   ],
   "source": [
    "grad.head()"
   ]
  },
  {
   "cell_type": "code",
   "execution_count": 117,
   "metadata": {},
   "outputs": [
    {
     "data": {
      "text/plain": [
       "0.7089258740564706"
      ]
     },
     "execution_count": 117,
     "metadata": {},
     "output_type": "execute_result"
    }
   ],
   "source": [
    "linear.intercept_"
   ]
  },
  {
   "cell_type": "code",
   "execution_count": 118,
   "metadata": {},
   "outputs": [
    {
     "data": {
      "text/plain": [
       "array([ 0.02197591,  0.01801216,  0.00913065, -0.00093196,  0.0160836 ,\n",
       "        0.07093449,  0.02201165])"
      ]
     },
     "execution_count": 118,
     "metadata": {},
     "output_type": "execute_result"
    }
   ],
   "source": [
    "linear.coef_"
   ]
  },
  {
   "cell_type": "markdown",
   "metadata": {},
   "source": [
    "$ Chance of Admit = 0.709 + (0.03)*GRE Score + (0.02)*TOEFL Score + (0.01)*University Rating + (-0.001)*SOP + (0.02)*LOR + (0.07)*CGPA + (0.02)*Research $"
   ]
  },
  {
   "cell_type": "code",
   "execution_count": 127,
   "metadata": {},
   "outputs": [],
   "source": [
    "from sklearn.feature_selection import f_regression\n",
    "\n",
    "f, p = f_regression(x,y)\n",
    "p_values = pd.DataFrame({'feature':['GRE Score', 'TOEFL Score', 'University Rating', 'SOP', 'LOR', 'CGPA', 'Research'], 'p-value':p})"
   ]
  },
  {
   "cell_type": "code",
   "execution_count": 128,
   "metadata": {},
   "outputs": [
    {
     "data": {
      "text/html": [
       "<div>\n",
       "<style scoped>\n",
       "    .dataframe tbody tr th:only-of-type {\n",
       "        vertical-align: middle;\n",
       "    }\n",
       "\n",
       "    .dataframe tbody tr th {\n",
       "        vertical-align: top;\n",
       "    }\n",
       "\n",
       "    .dataframe thead th {\n",
       "        text-align: right;\n",
       "    }\n",
       "</style>\n",
       "<table border=\"1\" class=\"dataframe\">\n",
       "  <thead>\n",
       "    <tr style=\"text-align: right;\">\n",
       "      <th></th>\n",
       "      <th>feature</th>\n",
       "      <th>p-value</th>\n",
       "    </tr>\n",
       "  </thead>\n",
       "  <tbody>\n",
       "    <tr>\n",
       "      <th>0</th>\n",
       "      <td>GRE Score</td>\n",
       "      <td>1.088404e-117</td>\n",
       "    </tr>\n",
       "    <tr>\n",
       "      <th>1</th>\n",
       "      <td>TOEFL Score</td>\n",
       "      <td>6.729927e-109</td>\n",
       "    </tr>\n",
       "    <tr>\n",
       "      <th>2</th>\n",
       "      <td>University Rating</td>\n",
       "      <td>5.866256e-72</td>\n",
       "    </tr>\n",
       "    <tr>\n",
       "      <th>3</th>\n",
       "      <td>SOP</td>\n",
       "      <td>2.885907e-70</td>\n",
       "    </tr>\n",
       "    <tr>\n",
       "      <th>4</th>\n",
       "      <td>LOR</td>\n",
       "      <td>3.069932e-60</td>\n",
       "    </tr>\n",
       "    <tr>\n",
       "      <th>5</th>\n",
       "      <td>CGPA</td>\n",
       "      <td>3.396545e-165</td>\n",
       "    </tr>\n",
       "    <tr>\n",
       "      <th>6</th>\n",
       "      <td>Research</td>\n",
       "      <td>3.595494e-40</td>\n",
       "    </tr>\n",
       "  </tbody>\n",
       "</table>\n",
       "</div>"
      ],
      "text/plain": [
       "             feature        p-value\n",
       "0          GRE Score  1.088404e-117\n",
       "1        TOEFL Score  6.729927e-109\n",
       "2  University Rating   5.866256e-72\n",
       "3                SOP   2.885907e-70\n",
       "4                LOR   3.069932e-60\n",
       "5               CGPA  3.396545e-165\n",
       "6           Research   3.595494e-40"
      ]
     },
     "execution_count": 128,
     "metadata": {},
     "output_type": "execute_result"
    }
   ],
   "source": [
    "p_values"
   ]
  },
  {
   "cell_type": "markdown",
   "metadata": {},
   "source": [
    "All of the variables are significant at the significance levle of 0.05. However, looking at the coefficients it can be seen that the CGPA has the highest effect on the variable where a 1 unit increase in the standardized CGPA leads to a 0.07 increase in the chnce of admissions.\n",
    "\n",
    "As seen from our exploratory data analysis, the CGPA, GRE, and TOEFL score have the highest coefficient values and the lowest p-values, indicating that they are the most significant variables in predicting the chances of admission (or they influenced the student's decision the most)."
   ]
  },
  {
   "cell_type": "markdown",
   "metadata": {},
   "source": [
    "---"
   ]
  },
  {
   "cell_type": "markdown",
   "metadata": {},
   "source": [
    "## Future Improvements"
   ]
  },
  {
   "cell_type": "markdown",
   "metadata": {},
   "source": [
    "* Consider fine-tuning parameters of regression models to provide a better result.\n",
    "* Deal with possible over-fitting in decision tree and random forest regression models.\n",
    "* Deal with multicollinearity (with other methods than standardization).\n",
    "* Un-standardize the coefficients to allow for better interpretations of the effects of the features on the chance of admission.\n",
    "* Continue learning about machine learning models!"
   ]
  },
  {
   "cell_type": "markdown",
   "metadata": {},
   "source": [
    "---"
   ]
  },
  {
   "cell_type": "markdown",
   "metadata": {},
   "source": [
    "# Thank you!"
   ]
  }
 ],
 "metadata": {
  "kernelspec": {
   "display_name": "Python 3",
   "language": "python",
   "name": "python3"
  },
  "language_info": {
   "codemirror_mode": {
    "name": "ipython",
    "version": 3
   },
   "file_extension": ".py",
   "mimetype": "text/x-python",
   "name": "python",
   "nbconvert_exporter": "python",
   "pygments_lexer": "ipython3",
   "version": "3.8.5"
  }
 },
 "nbformat": 4,
 "nbformat_minor": 4
}
